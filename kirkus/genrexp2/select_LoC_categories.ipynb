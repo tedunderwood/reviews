{
 "cells": [
  {
   "cell_type": "markdown",
   "metadata": {},
   "source": [
    "# Selecting LoC-genre-tagged volumes\n",
    "\n",
    "This notebook creates metadata for genrexp2 by selecting volumes that match predefined Library-of-Congress genre categories. For the most part it does that in a way matching their prevalence in Hathi. It also selects a set of completely random volumes, that may overlap with genre-tagged volumes but will also include untagged volumes."
   ]
  },
  {
   "cell_type": "markdown",
   "metadata": {},
   "source": [
    "#### First we load the categories we're going to be using. These differ from the last experiment in lacking the too-general category \"novel.\""
   ]
  },
  {
   "cell_type": "code",
   "execution_count": 1,
   "metadata": {},
   "outputs": [
    {
     "name": "stdout",
     "output_type": "stream",
     "text": [
      "['tales', 'domestic fiction', 'war stories', 'sea stories', 'ghost stories', 'western stories', 'adventure stories', 'psychological fiction', 'science fiction', 'autobiography', 'love stories', 'imaginary voyages', 'mystery and detective fiction', 'humor', 'short stories', 'folklore', 'legends', 'historical fiction', 'fairy tales']\n"
     ]
    }
   ],
   "source": [
    "import pandas as pd\n",
    "import numpy as np\n",
    "from collections import Counter\n",
    "import random, csv\n",
    "\n",
    "dateceilings = list(range(1870, 2020, 10))\n",
    "\n",
    "meta = pd.read_csv('/Users/tunder/Dropbox/python/noveltmmeta/metadata/titlemeta.tsv', sep = '\\t', low_memory = False)\n",
    "\n",
    "categories = dict()\n",
    "\n",
    "with open('genre_groups_for_20c_exp.tsv', encoding = 'utf-8') as f:\n",
    "    reader = csv.reader(f, delimiter = '\\t')\n",
    "    for fields in reader:\n",
    "        categories[fields[0]] = set(fields)\n",
    "\n",
    "allcats = list(categories.keys())\n",
    "print(allcats)"
   ]
  },
  {
   "cell_type": "markdown",
   "metadata": {},
   "source": [
    "**Now we iterate through the metadata and identify genre categories for each volume, while also keeping a list of all genre-tagged volumes in each decade, and all vols of any kind in each decade.**"
   ]
  },
  {
   "cell_type": "code",
   "execution_count": 2,
   "metadata": {},
   "outputs": [
    {
     "name": "stdout",
     "output_type": "stream",
     "text": [
      "1\n",
      "10001\n",
      "20001\n",
      "30001\n",
      "40001\n",
      "50001\n",
      "60001\n",
      "70001\n",
      "80001\n",
      "90001\n",
      "100001\n",
      "110001\n",
      "120001\n",
      "130001\n"
     ]
    }
   ],
   "source": [
    "volcategories = dict()  # genre categories for each volume\n",
    "genretaggedinperiod = dict() # period ceilings are keys, the values are sets\n",
    "                             # of vols in that period with genre tags\n",
    "allinperiod = dict()   # period ceilings are keys, the values\n",
    "                       # are sets of all vols in that period\n",
    "byperiodandgenre = dict() # a dict of dicts where the leaves contain a set of vols\n",
    "                            # in that period and genre\n",
    "\n",
    "# initialize the sets\n",
    "for d in dateceilings:\n",
    "    genretaggedinperiod[d] = set()\n",
    "    allinperiod[d] = set()\n",
    "    byperiodandgenre[d] = dict()\n",
    "    for c in allcats:\n",
    "        byperiodandgenre[d][c] = set()\n",
    "    \n",
    "# some books we already know are too short for our purposes\n",
    "\n",
    "tooshort = set()\n",
    "with open('booksthataretooshort.txt', encoding = 'utf-8') as f:\n",
    "    for line in f:\n",
    "        tooshort.add(line.strip())\n",
    "    \n",
    "ctr = 0\n",
    "\n",
    "for idx, row in meta.iterrows():\n",
    "    ctr += 1\n",
    "    if ctr % 10000 == 1:\n",
    "        print(ctr)\n",
    "    \n",
    "    docid = row.docid\n",
    "    if docid in tooshort:\n",
    "        continue\n",
    "        \n",
    "    if not pd.isnull(row['subjects']):\n",
    "        subjects = row['subjects'].split('|')\n",
    "    else:\n",
    "        subjects = list()\n",
    "\n",
    "    if not pd.isnull(row['genres']):\n",
    "        genres = row['genres'].split('|')\n",
    "    else:\n",
    "        genres = list()\n",
    "\n",
    "    if not pd.isnull(row['latestcomp']):\n",
    "        date = int(row['latestcomp'])\n",
    "    else:\n",
    "        date = 0\n",
    "\n",
    "    if date < 1860:\n",
    "        continue\n",
    "    for d in dateceilings:\n",
    "        if date < d:\n",
    "            ceiling = d\n",
    "            break\n",
    "\n",
    "    allinperiod[d].add(idx)\n",
    "    volcategories[idx] = set()\n",
    "\n",
    "    for cat, catset in categories.items():\n",
    "        \n",
    "        match = False\n",
    "        for g in genres:\n",
    "            if g.lower() in catset:\n",
    "                match = True\n",
    "                break\n",
    "        for s in subjects:\n",
    "            if s.lower() in catset:\n",
    "                match = True\n",
    "                break\n",
    "        if match:\n",
    "            volcategories[idx].add(cat)\n",
    "            genretaggedinperiod[d].add(idx)\n",
    "            byperiodandgenre[d][cat].add(idx)"
   ]
  },
  {
   "cell_type": "markdown",
   "metadata": {},
   "source": [
    "**Now we proceed to actually select volumes.**"
   ]
  },
  {
   "cell_type": "code",
   "execution_count": 4,
   "metadata": {},
   "outputs": [
    {
     "name": "stdout",
     "output_type": "stream",
     "text": [
      "genre 1870 356\n",
      "1870 ghost stories 0\n",
      "genre 1880 400\n",
      "1880 ghost stories 1\n",
      "1880 psychological fiction 0\n",
      "genre 1890 400\n",
      "genre 1900 400\n",
      "1900 domestic fiction 1\n",
      "1900 ghost stories 1\n",
      "1900 imaginary voyages 1\n",
      "genre 1910 400\n",
      "1910 ghost stories 1\n",
      "1910 imaginary voyages 3\n",
      "genre 1920 400\n",
      "1920 imaginary voyages 3\n",
      "genre 1930 400\n",
      "1930 imaginary voyages 2\n",
      "genre 1940 400\n",
      "1940 ghost stories 1\n",
      "1940 psychological fiction 1\n",
      "1940 imaginary voyages 0\n",
      "genre 1950 400\n",
      "1950 ghost stories 1\n",
      "1950 imaginary voyages 0\n",
      "genre 1960 400\n",
      "1960 ghost stories 3\n",
      "1960 imaginary voyages 0\n",
      "genre 1970 400\n",
      "1970 domestic fiction 2\n",
      "1970 ghost stories 1\n",
      "1970 adventure stories 2\n",
      "1970 imaginary voyages 0\n",
      "genre 1980 400\n",
      "1980 sea stories 1\n",
      "1980 ghost stories 1\n",
      "1980 adventure stories 1\n",
      "1980 imaginary voyages 0\n",
      "genre 1990 400\n",
      "1990 sea stories 2\n",
      "1990 adventure stories 2\n",
      "1990 imaginary voyages 0\n",
      "genre 2000 400\n",
      "2000 sea stories 2\n",
      "2000 autobiography 1\n",
      "2000 imaginary voyages 0\n",
      "genre 2010 400\n",
      "2010 ghost stories 1\n",
      "2010 autobiography 3\n",
      "2010 imaginary voyages 3\n",
      "2010 legends 1\n",
      "2010 fairy tales 3\n",
      "We have 7081 volumes.\n",
      "Of those 45 were supplements to meet at least 3 per genre per decade.\n"
     ]
    }
   ],
   "source": [
    "# the crucial set, containing volumes we have selected\n",
    "\n",
    "allselected = set()\n",
    "\n",
    "# the next two variables are just counters\n",
    "# for the numbers of volumes selected in a given\n",
    "# genre in a decade\n",
    "\n",
    "genreselected = dict()\n",
    "onlygenre = dict()\n",
    "\n",
    "supplementctr = 0\n",
    "\n",
    "for d in dateceilings:\n",
    "    genreselected[d] = Counter()\n",
    "    onlygenre[d] = Counter()\n",
    "    \n",
    "    k = len(genretaggedinperiod[d])\n",
    "    if k > 400:\n",
    "        k = 400\n",
    "    \n",
    "    genreselect = random.sample(genretaggedinperiod[d], k)\n",
    "    print('genre', d, k)\n",
    "    \n",
    "    randomselect = random.sample(allinperiod[d], 75)\n",
    "    \n",
    "    for avol in genreselect:\n",
    "        allselected.add(avol)\n",
    "        for cat in volcategories[avol]:\n",
    "            genreselected[d][cat] += 1\n",
    "            if len(volcategories[avol]) < 2:\n",
    "                onlygenre[d][cat] += 1\n",
    "    \n",
    "    for avol in randomselect:\n",
    "        allselected.add(avol)\n",
    "        volcategories[avol].add('random')\n",
    "  \n",
    "    # we ensure there are at least 3 volumes in each genre in each decade\n",
    "    \n",
    "    for c in allcats:\n",
    "        if genreselected[d][c] < 3:\n",
    "            possibles = byperiodandgenre[d][c]\n",
    "            stillpossibles = possibles - allselected\n",
    "            toget = 3 - genreselected[d][c]\n",
    "            if len(stillpossibles) < toget:\n",
    "                toget = len(stillpossibles)\n",
    "            \n",
    "            print(d, c, toget)\n",
    "            minimum = random.sample(stillpossibles, toget)\n",
    "            for m in minimum:\n",
    "                allselected.add(m)\n",
    "                genreselected[d][c] += 1\n",
    "                supplementctr += 1\n",
    "            \n",
    "                \n",
    "print(\"We have\", len(allselected), \"volumes.\")\n",
    "print(\"Of those\", supplementctr, \"were supplements to meet at least 3 per genre per decade.\")          "
   ]
  },
  {
   "cell_type": "code",
   "execution_count": 5,
   "metadata": {},
   "outputs": [
    {
     "name": "stdout",
     "output_type": "stream",
     "text": [
      "7081\n",
      "7081\n"
     ]
    }
   ],
   "source": [
    "# just confirming that we didn't select any books that were too short\n",
    "\n",
    "print(len(allselected))\n",
    "print(len(allselected - tooshort))\n"
   ]
  },
  {
   "cell_type": "code",
   "execution_count": 7,
   "metadata": {},
   "outputs": [],
   "source": [
    "meta = meta.replace(np.nan, '', regex=True)\n",
    "\n",
    "with open('genre_assignments_4loc2.tsv', mode = 'w', encoding = 'utf-8') as f:\n",
    "    f.write('docid\\texp_genres\\tdate\\tauthor\\ttitle\\toriggenres\\torigsubjs\\tremove\\n')\n",
    "    for idx in allselected:\n",
    "        docid = meta.at[idx, 'docid']\n",
    "        experimentgenres = '|'.join(volcategories[idx])\n",
    "        date = meta.at[idx, 'latestcomp']\n",
    "        author = meta.at[idx, 'author']\n",
    "        title = meta.at[idx, 'title']\n",
    "        origgenres = meta.at[idx, 'genres']\n",
    "        origsubjs = meta.at[idx, 'subjects']\n",
    "        f.write(docid + '\\t' + experimentgenres + '\\t' + str(date) + '\\t' + author +\n",
    "                '\\t' + title + '\\t' + origgenres + '\\t' + origsubjs + '\\t \\n')\n",
    "        "
   ]
  },
  {
   "cell_type": "code",
   "execution_count": 13,
   "metadata": {},
   "outputs": [],
   "source": [
    "with open('selectedtable.tsv', mode = 'w', encoding = 'utf-8') as f:\n",
    "    header = ['genrecategory'] + [str(x - 10) for x in dateceilings]\n",
    "    header = '\\t'.join(header) + '\\n'\n",
    "    f.write(header)\n",
    "    for c in allcats:\n",
    "        line = [c]\n",
    "        for d in dateceilings:\n",
    "            if c in genreselected[d]:\n",
    "                ct = genreselected[d][c]\n",
    "            else:\n",
    "                ct = 0\n",
    "            line.append(str(ct))\n",
    "            \n",
    "        f.write('\\t'.join(line) + '\\n')"
   ]
  },
  {
   "cell_type": "code",
   "execution_count": 9,
   "metadata": {},
   "outputs": [
    {
     "data": {
      "text/plain": [
       "1125"
      ]
     },
     "execution_count": 9,
     "metadata": {},
     "output_type": "execute_result"
    }
   ],
   "source": [
    "len(randomselect) * len(dateceilings)\n"
   ]
  }
 ],
 "metadata": {
  "kernelspec": {
   "display_name": "Python 3",
   "language": "python",
   "name": "python3"
  },
  "language_info": {
   "codemirror_mode": {
    "name": "ipython",
    "version": 3
   },
   "file_extension": ".py",
   "mimetype": "text/x-python",
   "name": "python",
   "nbconvert_exporter": "python",
   "pygments_lexer": "ipython3",
   "version": "3.7.6"
  }
 },
 "nbformat": 4,
 "nbformat_minor": 2
}
